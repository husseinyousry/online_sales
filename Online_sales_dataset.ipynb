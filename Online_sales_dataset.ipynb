{
 "cells": [
  {
   "cell_type": "code",
   "execution_count": 7,
   "id": "625a529c",
   "metadata": {},
   "outputs": [],
   "source": [
    "import pandas as pd\n",
    "import numpy as np\n",
    "import os\n",
    "import plotly.express as px\n",
    "import plotly.graph_objects as go\n",
    "import plotly.io as pio"
   ]
  },
  {
   "cell_type": "code",
   "execution_count": 8,
   "id": "68a98c79",
   "metadata": {},
   "outputs": [
    {
     "data": {
      "text/plain": [
       "InvoiceNo               0\n",
       "StockCode               0\n",
       "Description             0\n",
       "Quantity                0\n",
       "InvoiceDate             0\n",
       "UnitPrice               0\n",
       "CustomerID           4978\n",
       "Country                 0\n",
       "Discount                0\n",
       "PaymentMethod           0\n",
       "ShippingCost         2489\n",
       "Category                0\n",
       "SalesChannel            0\n",
       "ReturnStatus            0\n",
       "ShipmentProvider        0\n",
       "WarehouseLocation    3485\n",
       "OrderPriority           0\n",
       "dtype: int64"
      ]
     },
     "execution_count": 8,
     "metadata": {},
     "output_type": "execute_result"
    }
   ],
   "source": [
    "df = pd.read_csv(r\"D:\\Data since\\Epsilon AI\\DSP\\Mid_project_1\\Online Sales Dataset\\online_sales_dataset.csv\")\n",
    "df.isnull().sum()"
   ]
  },
  {
   "cell_type": "markdown",
   "id": "d8167665",
   "metadata": {},
   "source": [
    "## Handling missing values"
   ]
  },
  {
   "cell_type": "code",
   "execution_count": 9,
   "id": "c6a7431b",
   "metadata": {},
   "outputs": [
    {
     "data": {
      "text/plain": [
       "InvoiceNo            0\n",
       "StockCode            0\n",
       "Description          0\n",
       "Quantity             0\n",
       "UnitPrice            0\n",
       "CustomerID           0\n",
       "Country              0\n",
       "Discount             0\n",
       "PaymentMethod        0\n",
       "ShippingCost         0\n",
       "Category             0\n",
       "SalesChannel         0\n",
       "ReturnStatus         0\n",
       "ShipmentProvider     0\n",
       "WarehouseLocation    0\n",
       "OrderPriority        0\n",
       "order_year           0\n",
       "order_month          0\n",
       "order_weekday        0\n",
       "dtype: int64"
      ]
     },
     "execution_count": 9,
     "metadata": {},
     "output_type": "execute_result"
    }
   ],
   "source": [
    "df['CustomerID'] = df['CustomerID'].fillna(000).astype(int)\n",
    "df['order_year'] = pd.to_datetime(df['InvoiceDate']).dt.year\n",
    "df['order_month'] = pd.to_datetime(df['InvoiceDate']).dt.month\n",
    "df['order_weekday'] = pd.to_datetime(df['InvoiceDate']).dt.day_name()\n",
    "df = df.drop(['InvoiceDate'], axis=1)\n",
    "df['ShippingCost'] = df['ShippingCost'].fillna(df['ShippingCost'].median())\n",
    "df['WarehouseLocation'] = df['WarehouseLocation'].fillna(df['WarehouseLocation'].mode()[0])\n",
    "df.isnull().sum()"
   ]
  },
  {
   "cell_type": "markdown",
   "id": "186a8150",
   "metadata": {},
   "source": [
    "## handling negative values in quantity and unit price colums"
   ]
  },
  {
   "cell_type": "code",
   "execution_count": 10,
   "id": "4b16b2d4",
   "metadata": {},
   "outputs": [
    {
     "ename": "_IncompleteInputError",
     "evalue": "incomplete input (1495435079.py, line 3)",
     "output_type": "error",
     "traceback": [
      "\u001b[1;36m  Cell \u001b[1;32mIn[10], line 3\u001b[1;36m\u001b[0m\n\u001b[1;33m    df\u001b[0m\n\u001b[1;37m      ^\u001b[0m\n\u001b[1;31m_IncompleteInputError\u001b[0m\u001b[1;31m:\u001b[0m incomplete input\n"
     ]
    }
   ],
   "source": [
    "df['is_refund'] = df['Quantity'] < 0\n",
    "df['refund_amount'] = np.where(df['is_efund'], \n",
    "df"
   ]
  }
 ],
 "metadata": {
  "kernelspec": {
   "display_name": "Python 3",
   "language": "python",
   "name": "python3"
  },
  "language_info": {
   "codemirror_mode": {
    "name": "ipython",
    "version": 3
   },
   "file_extension": ".py",
   "mimetype": "text/x-python",
   "name": "python",
   "nbconvert_exporter": "python",
   "pygments_lexer": "ipython3",
   "version": "3.13.1"
  }
 },
 "nbformat": 4,
 "nbformat_minor": 5
}
